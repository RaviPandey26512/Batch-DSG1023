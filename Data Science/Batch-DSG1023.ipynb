{
 "cells": [
  {
   "cell_type": "code",
   "execution_count": 9,
   "id": "e29b6e5f",
   "metadata": {},
   "outputs": [
    {
     "name": "stdout",
     "output_type": "stream",
     "text": [
      "Ravikesh Pandey\n",
      "Hello DSG1023\n"
     ]
    }
   ],
   "source": [
    "print(\"Ravikesh Pandey\")\n",
    "print(\"Hello DSG1023\")"
   ]
  },
  {
   "cell_type": "code",
   "execution_count": 1,
   "id": "3fd11f40",
   "metadata": {},
   "outputs": [
    {
     "name": "stdout",
     "output_type": "stream",
     "text": [
      "Hello World!\n"
     ]
    }
   ],
   "source": [
    "print(\"Hello World!\")"
   ]
  },
  {
   "cell_type": "code",
   "execution_count": null,
   "id": "2293c9c6",
   "metadata": {},
   "outputs": [],
   "source": [
    "ctrl+enter- execute /run the cell\n",
    "shift+enter- execute /run the cell\n",
    "\n",
    "esc+a- to add a cell above the current cell\n",
    "esc+b- to add a cell below the current cell\n",
    "\n",
    "esc+d+d- to delete the selected cell"
   ]
  },
  {
   "cell_type": "markdown",
   "id": "97ed2937",
   "metadata": {},
   "source": [
    "hello world"
   ]
  },
  {
   "cell_type": "code",
   "execution_count": 7,
   "id": "89df1848",
   "metadata": {},
   "outputs": [
    {
     "data": {
      "text/plain": [
       "15"
      ]
     },
     "execution_count": 7,
     "metadata": {},
     "output_type": "execute_result"
    }
   ],
   "source": [
    "25-10"
   ]
  },
  {
   "cell_type": "markdown",
   "id": "4d8bb224",
   "metadata": {},
   "source": [
    "ctrl+enter- execute /run the cell"
   ]
  }
 ],
 "metadata": {
  "kernelspec": {
   "display_name": "Python 3 (ipykernel)",
   "language": "python",
   "name": "python3"
  },
  "language_info": {
   "codemirror_mode": {
    "name": "ipython",
    "version": 3
   },
   "file_extension": ".py",
   "mimetype": "text/x-python",
   "name": "python",
   "nbconvert_exporter": "python",
   "pygments_lexer": "ipython3",
   "version": "3.11.5"
  }
 },
 "nbformat": 4,
 "nbformat_minor": 5
}
